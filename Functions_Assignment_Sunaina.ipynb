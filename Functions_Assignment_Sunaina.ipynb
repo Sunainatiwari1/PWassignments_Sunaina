{
  "nbformat": 4,
  "nbformat_minor": 0,
  "metadata": {
    "colab": {
      "provenance": []
    },
    "kernelspec": {
      "name": "python3",
      "display_name": "Python 3"
    },
    "language_info": {
      "name": "python"
    }
  },
  "cells": [
    {
      "cell_type": "markdown",
      "source": [
        "Q1- What is the difference between a function and a method in Python?\n",
        "Ans -  #Ans - In Python, methods and functions have similar purposes but differ in important ways. Functions are independent blocks of code that can be called from anywhere, while methods are tied to objects or classes and need an object or class instance to be invoked\n",
        "\n"
      ],
      "metadata": {
        "id": "b29O41jINku8"
      }
    },
    {
      "cell_type": "markdown",
      "source": [
        "Q2 - Explain the concept of function arguments and parameters in Python\n",
        "Ans - In Python, the terms \"parameters\" and \"arguments\" are distinct but related concepts concerning how data is passed into functions."
      ],
      "metadata": {
        "id": "FRKKWqBPNM4D"
      }
    },
    {
      "cell_type": "markdown",
      "source": [
        "Q3 - What are the different ways to define and call a function in Python?\n",
        "Ans -In Python, functions are defined to encapsulate reusable blocks of code and are called to execute those blocks.\n",
        "Defining a Function\n",
        "The primary way to define a function in Python is using the def keyword."
      ],
      "metadata": {
        "id": "ZQZkZ9DtNMDD"
      }
    },
    {
      "cell_type": "markdown",
      "source": [
        "Q4 -What is the purpose of the `return` statement in a Python function?\n",
        "Ans - The return statement in a Python function serves two primary purposes:\n",
        "Exiting the Function:\n",
        "When a return statement is encountered within a function, the function's execution immediately terminates. Control is then passed back to the point in the code where the function was called. Any code within the function after the return statement will not be executed.\n",
        "Returning a Value:\n",
        "The return statement can be used to send one or more values back to the caller of the function. This allows functions to produce output that can be used by other parts of the program. The value(s) returned can be of any data type, including numbers, strings, lists, dictionaries, or even other functions. If no value is specified after return, or if a function does not contain a return statement, it implicitly returns the special value None.\n"
      ],
      "metadata": {
        "id": "445YZhBrNIAH"
      }
    },
    {
      "cell_type": "markdown",
      "source": [
        "Q5 - What are iterators in Python and how do they differ from iterables?\n",
        "Ans - In Python, an iterator is an object that implements the iterator protocol, which consists of the __iter__() and __next__() methods. Iterators allow you to traverse through elements of a collection (like lists, tuples, strings, or custom objects) one at a time, providing a memory-efficient way to access data, especially when dealing with large datasets.\n",
        "Iterators control loops, allowing you to traverse arbitrary data containers one item at a time. Iterables, on the other hand, provide the data that you want to iterate over"
      ],
      "metadata": {
        "id": "99JKJXuiM6A-"
      }
    },
    {
      "cell_type": "markdown",
      "source": [
        "Q6 Explain the concept of generators in Python and how they are defined.\n",
        "Ans -Generators in Python are a special type of iterable that allow for the \"lazy\" generation of values, meaning they produce values one at a time on demand rather than storing the entire sequence in memory. This makes them highly efficient for working with large datasets or infinite sequences\n",
        "A generator function is defined like a regular Python function using the def keyword. The key distinguishing feature is the presence of one or more yield statements within its body instead of return statements. When a yield statement is encountered, the function's execution is paused, and the yielded value is returned. The state of the function is preserved, allowing it to resume execution from where it left off the next time a value is requested.\n"
      ],
      "metadata": {
        "id": "dOF2ArWAO1mG"
      }
    },
    {
      "cell_type": "markdown",
      "source": [
        "Q7 - What are the advantages of using generators over regular functions?\n",
        "Ans - Generators offer several advantages over regular functions, primarily in terms of memory efficiency, lazy evaluation, and the ability to handle infinite sequences or large datasets. They produce values one by one as needed, rather than generating an entire sequence upfront, which is beneficial when dealing with large or unbounded data streams.\n"
      ],
      "metadata": {
        "id": "TNvbxC32O1yW"
      }
    },
    {
      "cell_type": "markdown",
      "source": [
        "Q8 -  What is a lambda function in Python and when is it typically used?\n",
        "Ans - A lambda function in Python is a small, anonymous function defined using the lambda keyword. It's typically used when you need a short, single-line function on the fly, particularly as an argument to higher-order functions like map, filter, or sorted"
      ],
      "metadata": {
        "id": "bOGXFbtOO11o"
      }
    },
    {
      "cell_type": "markdown",
      "source": [
        "Q9- Explain the purpose and usage of the `map()` function in Python\n",
        "Ans - The map() function in Python is a built-in higher-order function that applies a given function to each item in an iterable (such as a list, tuple, or set) and returns an iterator containing the results. Its primary purpose is to efficiently perform element-wise transformations on data collections without explicitly writing loops.\n"
      ],
      "metadata": {
        "id": "k_WR-BY7O15O"
      }
    },
    {
      "cell_type": "markdown",
      "source": [
        "Q10 - What is the difference between `map()`, `reduce()`, and `filter()` functions in Python\n",
        "Ans - The map(), filter(), and reduce() functions in Python are higher-order functions used for processing iterables, each serving a distinct purpose:\n",
        "map(function, iterable):\n",
        "Purpose: Applies a given function to each item in an iterable and returns an iterator of the results.\n",
        "Output: A new iterable (e.g., a map object) with the same number of elements as the input, where each element is the result of applying the function to the corresponding input element.\n",
        "Use Case: Transforming elements in a collection, such as converting data types or performing calculations on each item."
      ],
      "metadata": {
        "id": "Q5efjT39O18O"
      }
    },
    {
      "cell_type": "markdown",
      "source": [
        "Q11 -  Using pen & Paper write the internal mechanism for sum operation using  reduce function on this given\n",
        "list:[47,11,42,13];\n",
        "Ans - The lambda function takes two arguments (x and y) and returns their sum.\n",
        "reduce() starts by applying the function to the first two elements: 47 + 11 = 58.\n",
        "The result (58) is then used with the next element: 58 + 42 = 100, and so on.\n",
        "The process continues until all elements are processed, yielding 113.\n"
      ],
      "metadata": {
        "id": "f8jwFGUQO1_g"
      }
    },
    {
      "cell_type": "code",
      "source": [
        "a = [47,11,42,13]\n",
        "from functools import reduce\n",
        "reduce(lambda x,y:x+y,a)"
      ],
      "metadata": {
        "colab": {
          "base_uri": "https://localhost:8080/"
        },
        "id": "rn88dKaARHLp",
        "outputId": "82187022-ae44-4d1d-be33-f3a499df16e3"
      },
      "execution_count": null,
      "outputs": [
        {
          "output_type": "execute_result",
          "data": {
            "text/plain": [
              "113"
            ]
          },
          "metadata": {},
          "execution_count": 2
        }
      ]
    },
    {
      "cell_type": "markdown",
      "source": [
        "Practical Questions:"
      ],
      "metadata": {
        "id": "jwD_NlaUO2De"
      }
    },
    {
      "cell_type": "code",
      "source": [
        "# Q1 Write a Python function that takes a list of numbers as input and returns the sum of all even numbers in the list.\n",
        "def sum_even_numbers(numbers):\n",
        "    even_sum = 0\n",
        "    for num in numbers:\n",
        "        if num % 2 == 0:\n",
        "            even_sum += num\n",
        "    return even_sum"
      ],
      "metadata": {
        "id": "OAI6kBtVSDdj"
      },
      "execution_count": null,
      "outputs": []
    },
    {
      "cell_type": "code",
      "source": [
        "print(sum_even_numbers)"
      ],
      "metadata": {
        "colab": {
          "base_uri": "https://localhost:8080/"
        },
        "id": "jj72E9EySDaw",
        "outputId": "52a47e65-cdd1-4cc9-9502-c59b6864bcf5"
      },
      "execution_count": null,
      "outputs": [
        {
          "output_type": "stream",
          "name": "stdout",
          "text": [
            "[1, 2, 3, 4, 5, 6, 7, 8, 9, 10]\n"
          ]
        }
      ]
    },
    {
      "cell_type": "code",
      "source": [
        "even"
      ],
      "metadata": {
        "id": "_0WDy1o3SDXm"
      },
      "execution_count": null,
      "outputs": []
    },
    {
      "cell_type": "code",
      "source": [
        "#Q2 Create a Python function that accepts a string and returns the reverse of that string\n",
        "def reverse_string(input_string):\n",
        "    return input_string[::-1]"
      ],
      "metadata": {
        "id": "wf66F-hFSDUg"
      },
      "execution_count": null,
      "outputs": []
    },
    {
      "cell_type": "code",
      "source": [
        "reverse_string(\"hello\")"
      ],
      "metadata": {
        "colab": {
          "base_uri": "https://localhost:8080/",
          "height": 36
        },
        "id": "A-VthMXESDRd",
        "outputId": "cb2ddfb1-875a-46b2-c941-4441fa901717"
      },
      "execution_count": null,
      "outputs": [
        {
          "output_type": "execute_result",
          "data": {
            "text/plain": [
              "'olleh'"
            ],
            "application/vnd.google.colaboratory.intrinsic+json": {
              "type": "string"
            }
          },
          "metadata": {},
          "execution_count": 13
        }
      ]
    },
    {
      "cell_type": "code",
      "source": [
        "def reverse_srtings(input_string):\n",
        "    reversed_string = \"\"\n",
        "    for char in input_string:\n",
        "        reversed_string = char + reversed_string\n",
        "    return reversed_string\n"
      ],
      "metadata": {
        "id": "dgnKtrrASDOh"
      },
      "execution_count": null,
      "outputs": []
    },
    {
      "cell_type": "code",
      "source": [
        "reverse_srtings(\"sunaina\")"
      ],
      "metadata": {
        "colab": {
          "base_uri": "https://localhost:8080/",
          "height": 36
        },
        "id": "AoWSo0tPSDLR",
        "outputId": "2465a541-49f4-417e-8ccf-bdeeea8b2a19"
      },
      "execution_count": null,
      "outputs": [
        {
          "output_type": "execute_result",
          "data": {
            "text/plain": [
              "'anianus'"
            ],
            "application/vnd.google.colaboratory.intrinsic+json": {
              "type": "string"
            }
          },
          "metadata": {},
          "execution_count": 19
        }
      ]
    },
    {
      "cell_type": "code",
      "source": [
        "#Q3  Implement a Python function that takes a list of integers and returns a new list containing the squares of each number.\n",
        "def square_numbers(numbers):\n",
        "    squared_numbers = [num ** 2 for num in numbers]\n",
        "    return squared_numbers\n",
        "\n",
        "nums = [1, 2, 3, 4, 5]\n",
        "result = square_numbers(nums)\n",
        "print(result)\n"
      ],
      "metadata": {
        "id": "FBRQWoVmSDIU",
        "colab": {
          "base_uri": "https://localhost:8080/"
        },
        "outputId": "96a69f09-db59-4e0f-9764-f190ad1d1202"
      },
      "execution_count": 31,
      "outputs": [
        {
          "output_type": "stream",
          "name": "stdout",
          "text": [
            "[1, 4, 9, 16, 25]\n"
          ]
        }
      ]
    },
    {
      "cell_type": "code",
      "source": [
        "#Q 4= Write a Python function that checks if a given number is prime or not from 1 to 200\n",
        "def is_prime(number):\n",
        "    if number <= 1:\n",
        "        return False\n",
        "    if number <= 3:\n",
        "        return True\n",
        "    if number % 2 == 0 or number % 3 == 0:\n",
        "        return False"
      ],
      "metadata": {
        "id": "gmxpvvsbSDCO"
      },
      "execution_count": null,
      "outputs": []
    },
    {
      "cell_type": "code",
      "source": [
        "#Q5Create an iterator class in Python that generates the Fibonacci sequence up to a specified number of terms\n",
        "class FibonacciIterator:\n",
        "    def __init__(self, n):\n",
        "        self.n = n\n",
        "        self.current = 0\n",
        "        self.next = 1\n",
        "        self.count = 0\n",
        "\n",
        "    def __iter__(self):\n",
        "        # The __iter__ method should return the iterator object itself\n",
        "        return self\n",
        "\n",
        "    def __next__(self):\n",
        "        # The __next__ method generates the next value in the sequence\n",
        "        if self.count >= self.n:\n",
        "            # Raise StopIteration when the sequence is exhausted\n",
        "            raise StopIteration\n",
        "        result = self.current\n",
        "        self.current, self.next = self.next, self.current + self.next\n",
        "        self.count += 1\n",
        "        return result\n",
        "\n",
        "# Now you can create an instance and iterate over it\n",
        "n = 10\n",
        "fib_iterator = FibonacciIterator(n)\n",
        "\n",
        "for num in fib_iterator:\n",
        "    print(num)\n"
      ],
      "metadata": {
        "id": "RPBqFYAkSC_Z",
        "colab": {
          "base_uri": "https://localhost:8080/"
        },
        "outputId": "c9b169f6-8ac9-4dfa-ec74-eb6675cec78e"
      },
      "execution_count": 19,
      "outputs": [
        {
          "output_type": "stream",
          "name": "stdout",
          "text": [
            "0\n",
            "1\n",
            "1\n",
            "2\n",
            "3\n",
            "5\n",
            "8\n",
            "13\n",
            "21\n",
            "34\n"
          ]
        }
      ]
    },
    {
      "cell_type": "code",
      "source": [
        "# Q6 - Write a generator function in Python that yields the powers of 2 up to a given exponent.\n",
        "\n",
        "def power_of_two(exponent):\n",
        "    for i in range(exponent + 1):\n",
        "        yield 2 ** i\n",
        "\n",
        "for power in power_of_two(5):\n",
        "    print(power)\n"
      ],
      "metadata": {
        "colab": {
          "base_uri": "https://localhost:8080/"
        },
        "id": "5V8waWGY_b2j",
        "outputId": "135ad6a5-5f8e-42d8-80e6-7946467a36e6"
      },
      "execution_count": 23,
      "outputs": [
        {
          "output_type": "stream",
          "name": "stdout",
          "text": [
            "1\n",
            "2\n",
            "4\n",
            "8\n",
            "16\n",
            "32\n"
          ]
        }
      ]
    },
    {
      "cell_type": "code",
      "source": [
        "# Q7  Implement a generator function that reads a file line by line and yields each line as a string\n",
        "def read_file_lines(file_path):\n",
        "    with open(file_path, 'r') as file:\n",
        "        for line in file:\n",
        "            yield line"
      ],
      "metadata": {
        "id": "h9B3nWBIBtCE"
      },
      "execution_count": 24,
      "outputs": []
    },
    {
      "cell_type": "code",
      "source": [
        "# Q8 Use a lambda function in Python to sort a list of tuples based on the second element of each tuple\n",
        "\n",
        "data = [(1, 5), (3, 2), (2, 8), (4, 1)]\n",
        "sorted_data = sorted(data, key=lambda x: x[1])\n",
        "print(sorted_data)"
      ],
      "metadata": {
        "colab": {
          "base_uri": "https://localhost:8080/"
        },
        "id": "PZQUDeEvCYAV",
        "outputId": "b4e0b9ac-6f32-49a4-e93e-a12d03971343"
      },
      "execution_count": 25,
      "outputs": [
        {
          "output_type": "stream",
          "name": "stdout",
          "text": [
            "[(4, 1), (3, 2), (1, 5), (2, 8)]\n"
          ]
        }
      ]
    },
    {
      "cell_type": "code",
      "source": [
        "# Q9  Write a Python program that uses `map()` to convert a list of temperatures from Celsius to Fahrenheit.\n",
        "\n",
        "def celsius_to_fahrenheit(c):\n",
        "    return (c * 9/5) + 32\n",
        "\n",
        "# List of temperatures in Celsius\n",
        "celsius_temps = [0, 20, 37, 100]\n"
      ],
      "metadata": {
        "id": "EMGl_3QICeul"
      },
      "execution_count": 26,
      "outputs": []
    },
    {
      "cell_type": "code",
      "source": [
        "# Q-10Create a Python program that uses `filter()` to remove all the vowels from a given string.\n",
        "def remove_vowels(string):\n",
        "    vowels = 'aeiouAEIOU'\n",
        "    return ''.join(filter(lambda x: x not in vowels, string))\n",
        ""
      ],
      "metadata": {
        "id": "3mnzcj7TCw7g"
      },
      "execution_count": 28,
      "outputs": []
    },
    {
      "cell_type": "code",
      "source": [
        "# Q11 - Imagine an accounting routine used in a book shop. It works on a list with sublists, which look like this:\n",
        "#Write a Python program, which returns a list with 2-tuples. Each tuple consists of the order number and the\n",
        "#product of the price per item and the quantity. The product should be increased by 10,- € if the value of the\n",
        "#order is smaller than 100,00 €.\n",
        "\n",
        "#Write a Python program using lambda and map.\n",
        "\n",
        "orders = [\n",
        "    [\"34587\", \"Learning Python, Mark Lutz\", 4, 40.95],\n",
        "    [\"98762\", \"Programming Python, Mark Lutz\", 5, 56.80],\n",
        "    [\"77226\", \"Head First Python, Paul Barry\", 3, 32.95],\n",
        "    [\"88112\", \"Einführung in Python3, Bernd Klein\", 3, 24.99]\n",
        "]\n",
        "\n",
        "# Using lambda and map\n",
        "result = list(map(lambda order: (\n",
        "    order[0],\n",
        "    round(order[2] * order[3] + 10 if order[2] * order[3] < 100 else order[2] * order[3], 2)\n",
        "), orders))\n",
        "\n",
        "print(result)\n",
        "#Write a Python program using lambda and map.\n",
        "\n",
        "orders = [\n",
        "    [\"34587\", \"Learning Python, Mark Lutz\", 4, 40.95],\n",
        "    [\"98762\", \"Programming Python, Mark Lutz\", 5, 56.80],\n",
        "    [\"77226\", \"Head First Python, Paul Barry\", 3, 32.95],\n",
        "    [\"88112\", \"Einführung in Python3, Bernd Klein\", 3, 24.99]\n",
        "]\n",
        "\n",
        "# Using lambda and map\n",
        "result = list(map(lambda order: (\n",
        "    order[0],\n",
        "    round(order[2] * order[3] + 10 if order[2] * order[3] < 100 else order[2] * order[3], 2)\n",
        "), orders))\n",
        "\n",
        "print(result)"
      ],
      "metadata": {
        "colab": {
          "base_uri": "https://localhost:8080/"
        },
        "id": "OahkzPtRC4h9",
        "outputId": "8d88704e-5a33-4d44-f8a0-78f1196adac8"
      },
      "execution_count": 30,
      "outputs": [
        {
          "output_type": "stream",
          "name": "stdout",
          "text": [
            "[('34587', 163.8), ('98762', 284.0), ('77226', 108.85), ('88112', 84.97)]\n",
            "[('34587', 163.8), ('98762', 284.0), ('77226', 108.85), ('88112', 84.97)]\n"
          ]
        }
      ]
    },
    {
      "cell_type": "code",
      "source": [],
      "metadata": {
        "id": "6dRJa8OzDRzf"
      },
      "execution_count": null,
      "outputs": []
    }
  ]
}