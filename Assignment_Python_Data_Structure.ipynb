{
  "nbformat": 4,
  "nbformat_minor": 0,
  "metadata": {
    "colab": {
      "provenance": []
    },
    "kernelspec": {
      "name": "python3",
      "display_name": "Python 3"
    },
    "language_info": {
      "name": "python"
    }
  },
  "cells": [
    {
      "cell_type": "markdown",
      "source": [
        "Data Types and Structures Questions"
      ],
      "metadata": {
        "id": "jffu0q97Jg2J"
      }
    },
    {
      "cell_type": "markdown",
      "source": [
        "Q1- What are data structures, and why are they important\n",
        "\n",
        "Ans - Data structures are fundamental building blocks in computer science, defining\n",
        "how data is organized and stored on a computer for efficient access, retrieval, and\n",
        "manipulation. They are essential because they enable programs to process information\n",
        "effectively, impacting performance, code readability, and the ability to solve complex\n",
        "problems"
      ],
      "metadata": {
        "id": "QYetTK3AJq9j"
      }
    },
    {
      "cell_type": "markdown",
      "source": [
        "Q2 - Explain the difference between mutable and immutable data types with examples\n",
        "\n",
        "Ans- Mutable data types are those that can be modified after their creation, while\n",
        "immutable data types cannot be changed once they are created. Lists and dictionaries are\n",
        "examples of mutable data types, whereas strings and tuples are examples of immutable\n",
        "data types."
      ],
      "metadata": {
        "id": "cmibs0u6JrAy"
      }
    },
    {
      "cell_type": "markdown",
      "source": [
        "Q3 - What are the main differences between lists and tuples in Python3\n",
        "Ans -  Lists are mutable, meaning their elements can be changed after creation. You can add, remove, or modify elements in a list.\n",
        "Tuples are immutable, meaning their elements cannot be changed after creation.\n",
        "Once a tuple is defined, its contents are fixed."
      ],
      "metadata": {
        "id": "qFhi8om3JrDl"
      }
    },
    {
      "cell_type": "markdown",
      "source": [
        "Q4-  Describe how dictionaries store dataP\n",
        "\n",
        "Ans - Dictionaries are unordered collections of data and are represented with curly brackets { } . Like lists, dictionaries are mutable(changeable) and indexed. With dictionaries, data is stored in a key:value format"
      ],
      "metadata": {
        "id": "lwyyuIBNJrGm"
      }
    },
    {
      "cell_type": "markdown",
      "source": [
        "Q5 - Why might you use a set instead of a list in Python\n",
        "\n",
        "Ans - Sets and lists are both used to store collections of items in Python, but they have key differences that make them suitable for different tasks. Sets only store unique elements, automatically removing duplicates. Lists, on the other hand, can contain duplicate elements"
      ],
      "metadata": {
        "id": "G2u9GuoJJrJu"
      }
    },
    {
      "cell_type": "markdown",
      "source": [
        "Q6- What is a string in Python, and how is it different from a list\n",
        "\n",
        "Ans -  In Python, a string is an immutable sequence of characters enclosed in single or double quotes, while a list is a mutable, ordered sequence of items enclosed in square brackets. Strings can only contain characters, while lists can hold various data types, including strings, numbers, and even other lists."
      ],
      "metadata": {
        "id": "6bVc4yMJJrMc"
      }
    },
    {
      "cell_type": "markdown",
      "source": [
        "Q7 - How do tuples ensure data integrity in Python\n",
        "\n",
        "Ans- -Tuples in Python ensure data integrity primarily through their immutability. Once a tuple is created, its contents cannot be changed: elements cannot be added, removed, or modified. This characteristic offers several advantages related to data integrity"
      ],
      "metadata": {
        "id": "SihAPP_JJrPz"
      }
    },
    {
      "cell_type": "markdown",
      "source": [
        "Q8 - What is a hash table, and how does it relate to dictionaries in Python?\n",
        "\n",
        "Ans -In Python, strings are immutable, which means that once a string is created, its value cannot be changed. Any operation that appears to modify a string actually creates a new string object"
      ],
      "metadata": {
        "id": "7RMztXQYJrTM"
      }
    },
    {
      "cell_type": "markdown",
      "source": [
        "Q9- Can lists contain different data types in Python\n",
        "\n",
        "Ans -  Yes, Python lists can contain elements of different data types. This includes integers, floats, strings, booleans, and even other lists or data structures. Python lists are dynamically typed, meaning you can add or remove elements of any type without declaring the list's type beforehand"
      ],
      "metadata": {
        "id": "afz5WnFGJrWo"
      }
    },
    {
      "cell_type": "markdown",
      "source": [
        "Q10  Explain why strings are immutable in Python\n",
        "\n",
        "Ans - In Python, strings are immutable, which means that once a string is created, its value cannot be changed. Any operation that appears to modify a string actually creates a new string object"
      ],
      "metadata": {
        "id": "LchnaoKFJraA"
      }
    },
    {
      "cell_type": "markdown",
      "source": [
        "Q11-What advantages do dictionaries offer over lists for certain tasks\n",
        "\n",
        "Ans -  it is more efficient to use dictionaries for the searching of elements as it can be carried out in a much faster manner. Lists are used when it is important to maintain the order of the elements and dealing with data that may get changed in the future"
      ],
      "metadata": {
        "id": "VCmnlsBBBe-c"
      }
    },
    {
      "cell_type": "markdown",
      "source": [
        "Q12-  Describe a scenario where using a tuple would be preferable over a list\n",
        "\n",
        "Ans - Use a list if you need a mutable collection of items where you may need to add, remove, or change elements. Lists are more flexible and have more built-in methods, making them ideal for dynamic collections. Use a tuple if you need an immutable collection where the elements won't change after creation\"\n",
        "     "
      ],
      "metadata": {
        "id": "DtuiJPGPBfPr"
      }
    },
    {
      "cell_type": "markdown",
      "source": [
        "Q13- How do sets handle duplicate values in Python\n",
        "\n",
        "Ans- In Python, sets are designed to store only unique elements. When you attempt to add a duplicate value to a set, it does not raise an error, but the duplicate value is simply ignored, and the set remains unchanged"
      ],
      "metadata": {
        "id": "Bo83PWQnBfVi"
      }
    },
    {
      "cell_type": "markdown",
      "source": [
        "Q14 - How does the “in” keyword work differently for lists and dictionaries\n",
        "Ans -  The in keyword in Python is used to check for membership, but it behaves differently depending on the data structure you're using — such as lists and dictionaries.\n",
        "\n",
        "In Lists\n",
        "When you use in with a list, it checks if a value is present in the list.\n",
        "It looks through all elements (values) of the list.\n",
        "It does not check for keys/indexes because lists don’t have keys — only values.\n",
        "\n",
        "In Dictionaries\n",
        "When you use in with a dictionary, it checks if a key is present in the dictionary — not a value.\n",
        "\n",
        "\n",
        "\n"
      ],
      "metadata": {
        "id": "Lfh_Nst4BfZA"
      }
    },
    {
      "cell_type": "markdown",
      "source": [
        "Q15 - Can you modify the elements of a tuple? Explain why or why not\n",
        "\n",
        "Ans - No, you cannot modify the elements of a tuple directly. This is because tuples are immutable in Python.\n"
      ],
      "metadata": {
        "id": "3ZagBXFnBfcj"
      }
    },
    {
      "cell_type": "markdown",
      "source": [
        "Q16- What is a nested dictionary, and give an example of its use case\n",
        "\n",
        "Ans -  A nested dictionary in Python is a dictionary where the values are themselves dictionaries. This allows you to create hierarchical data structures, grouping related data within a single dictionary"
      ],
      "metadata": {
        "id": "yqpsxByPBffx"
      }
    },
    {
      "cell_type": "markdown",
      "source": [
        "Q17- Describe the time complexity of accessing elements in a dictionary\n",
        "\n",
        "Ans - In Python, dictionaries are implemented using hash tables, which offer very efficient access times.\n",
        "\n"
      ],
      "metadata": {
        "id": "bfUgWtg7Bfiu"
      }
    },
    {
      "cell_type": "markdown",
      "source": [
        "Q18 -  In what situations are lists preferred over dictionaries\n",
        "\n",
        "Ans - While both lists and dictionaries store collections of data, lists are the better choice when:\n",
        "\n",
        "1. Order matters (especially before Python 3.7)\n",
        "Lists maintain the insertion order naturally and are ideal when sequence or position is important.\n",
        "2. You only need values, not key-value pairs\n",
        "If your data doesn’t need named keys, a list is simpler and more efficient.\n",
        "3. You need to access elements by position (index)\n",
        "Lists support index-based access, which is ideal for ordered data and when position is meaningful.\n",
        "4. You plan to use operations like slicing, sorting, or iteration\n",
        "Lists are better for:\n",
        "\n",
        "Sorting\n",
        "Slicing\n",
        "Reversing\n",
        "Index-based loops\n",
        "\n",
        "5. You have a small, simple dataset For small or sequential collections, lists are lightweight and easier to use than dictionaries."
      ],
      "metadata": {
        "id": "hc9K-OrTBfl7"
      }
    },
    {
      "cell_type": "markdown",
      "source": [
        "Q19- Why are dictionaries considered unordered, and how does that affect data retrieval\n",
        "\n",
        "Ans - In python, dictionaries are un-ordered because Python dictionaries are not intended to be in order, as simple as that."
      ],
      "metadata": {
        "id": "-qod8A2sBfob"
      }
    },
    {
      "cell_type": "markdown",
      "source": [
        "Q20 - Explain the difference between a list and a dictionary in terms of data retrieval.\n",
        "\n",
        "\n",
        "Ans -  lists access elements by their numerical index (starting from 0), while\n",
        "dictionaries access elements by their unique, non-numeric keys. Lists are ordered, so the first element is at index 0, the second at index 1, and so on. Dictionaries are unordered but use keys to quickly locate values."
      ],
      "metadata": {
        "id": "o0nxtUvIBfrd"
      }
    },
    {
      "cell_type": "markdown",
      "source": [
        "Practical Questions and Answers"
      ],
      "metadata": {
        "id": "g6OpZVTKBgfT"
      }
    },
    {
      "cell_type": "code",
      "source": [
        "# Q1 Write a code to create a string with your name and print it\n",
        "\n",
        "string = \"Sunaina\"\n",
        "print(string)"
      ],
      "metadata": {
        "colab": {
          "base_uri": "https://localhost:8080/"
        },
        "id": "-l_UUAEyBdFq",
        "outputId": "9b658a1e-bccc-4b39-fc86-705b7dd3d068"
      },
      "execution_count": 3,
      "outputs": [
        {
          "output_type": "stream",
          "name": "stdout",
          "text": [
            "Sunaina\n"
          ]
        }
      ]
    },
    {
      "cell_type": "code",
      "source": [
        "#Q2 Write a code to find the length of the string \"Hello World\"\n",
        "\n",
        "string =\"Hello World\"\n",
        "print(len(string))"
      ],
      "metadata": {
        "colab": {
          "base_uri": "https://localhost:8080/"
        },
        "id": "XYA3rjGgBdWv",
        "outputId": "315e176e-4e30-4150-94f0-3ada4f399bef"
      },
      "execution_count": 5,
      "outputs": [
        {
          "output_type": "stream",
          "name": "stdout",
          "text": [
            "11\n"
          ]
        }
      ]
    },
    {
      "cell_type": "code",
      "source": [
        "#Q3 Write a code to slice the first 3 characters from the string \"Python Programming\"\n",
        "\n",
        "string=\"python Programming\"\n",
        "slice=string[0:3]\n",
        "print(slice)"
      ],
      "metadata": {
        "colab": {
          "base_uri": "https://localhost:8080/"
        },
        "id": "QmijLkHdHiFU",
        "outputId": "1daa3012-11ca-4dc5-f0f2-228a552ee376"
      },
      "execution_count": 7,
      "outputs": [
        {
          "output_type": "stream",
          "name": "stdout",
          "text": [
            "pyt\n"
          ]
        }
      ]
    },
    {
      "cell_type": "code",
      "source": [
        "#Q4 Write a code to convert the string \"hello\" to uppercase\n",
        "string =\"hello\"\n",
        "string = string.upper()\n",
        "print(string)"
      ],
      "metadata": {
        "colab": {
          "base_uri": "https://localhost:8080/"
        },
        "id": "u01mNyh1H9L4",
        "outputId": "4a8061b9-a629-4491-ef19-d3aee3251055"
      },
      "execution_count": 9,
      "outputs": [
        {
          "output_type": "stream",
          "name": "stdout",
          "text": [
            "HELLO\n"
          ]
        }
      ]
    },
    {
      "cell_type": "code",
      "source": [
        "#Q5 Write a code to replace the word \"apple\" with \"orange\" in the string \"I like apple\"\n",
        "\n",
        "String = \"i like apple\"\n",
        "string = string.replace (\"apple\",\"orange\")\n",
        "print(string)"
      ],
      "metadata": {
        "colab": {
          "base_uri": "https://localhost:8080/"
        },
        "id": "535uHRwoIZVQ",
        "outputId": "77b53d2e-8d5a-46f1-abd9-12516f2377fb"
      },
      "execution_count": 11,
      "outputs": [
        {
          "output_type": "stream",
          "name": "stdout",
          "text": [
            "HELLO\n"
          ]
        }
      ]
    },
    {
      "cell_type": "code",
      "source": [
        "#Q6 Write a code to create a list with numbers 1 to 5 and print it\n",
        "\n",
        "numbers = [1, 2, 3, 4, 5]\n",
        "print(numbers)"
      ],
      "metadata": {
        "colab": {
          "base_uri": "https://localhost:8080/"
        },
        "id": "PDQxj-6lJYe2",
        "outputId": "b0824b14-78ac-46a9-f379-35b847346c80"
      },
      "execution_count": 1,
      "outputs": [
        {
          "output_type": "stream",
          "name": "stdout",
          "text": [
            "[1, 2, 3, 4, 5]\n"
          ]
        }
      ]
    },
    {
      "cell_type": "code",
      "source": [
        "#Q7 Write a code to append the number 10 to the list [1, 2, 3, 4]\n",
        "\n",
        "numbers = [1, 2, 3, 4]\n",
        "numbers.append(10)\n",
        "print(numbers)"
      ],
      "metadata": {
        "colab": {
          "base_uri": "https://localhost:8080/"
        },
        "id": "7SezGG58HuUp",
        "outputId": "32c47632-e09e-404a-d955-7c0ba4093a3f"
      },
      "execution_count": 2,
      "outputs": [
        {
          "output_type": "stream",
          "name": "stdout",
          "text": [
            "[1, 2, 3, 4, 10]\n"
          ]
        }
      ]
    },
    {
      "cell_type": "code",
      "source": [
        "#Q8 - Write a code to remove the number 3 from the list [1, 2, 3, 4, 5]\n",
        "\n",
        "numbers = [1, 2, 3, 4, 5]\n",
        "numbers.remove(3)\n",
        "print(numbers)"
      ],
      "metadata": {
        "colab": {
          "base_uri": "https://localhost:8080/"
        },
        "id": "RLPQRuZeIS19",
        "outputId": "ccc9ca15-3628-4ca7-c0ce-a79115bd667f"
      },
      "execution_count": 3,
      "outputs": [
        {
          "output_type": "stream",
          "name": "stdout",
          "text": [
            "[1, 2, 4, 5]\n"
          ]
        }
      ]
    },
    {
      "cell_type": "code",
      "source": [
        "#Q9 Write a code to access the second element in the list ['a', 'b', 'c', 'd']\n",
        "\n",
        "letters = ['a', 'b', 'c', 'd']\n",
        "print(letters[1])"
      ],
      "metadata": {
        "colab": {
          "base_uri": "https://localhost:8080/"
        },
        "id": "WUqdpHE1Ibqy",
        "outputId": "12f05fac-0183-4bcf-b6db-bf9ce2a51c8f"
      },
      "execution_count": 5,
      "outputs": [
        {
          "output_type": "stream",
          "name": "stdout",
          "text": [
            "b\n"
          ]
        }
      ]
    },
    {
      "cell_type": "code",
      "source": [
        "#Q10 Write a code to reverse the list [10, 20, 30, 40, 50].\n",
        "\n",
        "numbers = [10, 20, 30, 40, 50]\n",
        "numbers.reverse()\n",
        "print(numbers)"
      ],
      "metadata": {
        "colab": {
          "base_uri": "https://localhost:8080/"
        },
        "id": "WzpOykGqIhnU",
        "outputId": "432dbb2d-4fc6-4f2b-bb6a-f92d95a773fd"
      },
      "execution_count": 6,
      "outputs": [
        {
          "output_type": "stream",
          "name": "stdout",
          "text": [
            "[50, 40, 30, 20, 10]\n"
          ]
        }
      ]
    },
    {
      "cell_type": "code",
      "source": [
        "#Q11 -  Write a code to create a tuple with the elements 100, 200, 300 and print it.\n",
        "\n",
        "numbers = (100, 200, 300)\n",
        "print(numbers)\n"
      ],
      "metadata": {
        "colab": {
          "base_uri": "https://localhost:8080/"
        },
        "id": "ELyG4m3uIuyN",
        "outputId": "c3df47c8-0c45-4cdd-953d-f5f2089d7de5"
      },
      "execution_count": 8,
      "outputs": [
        {
          "output_type": "stream",
          "name": "stdout",
          "text": [
            "(100, 200, 300)\n"
          ]
        }
      ]
    },
    {
      "cell_type": "code",
      "source": [
        "#Q12  Write a code to access the second-to-last element of the tuple ('red', 'green', 'blue', 'yellow').\n",
        "\n",
        "colors = ('red', 'green', 'blue', 'yellow')\n",
        "print(colors[-2])\n"
      ],
      "metadata": {
        "colab": {
          "base_uri": "https://localhost:8080/"
        },
        "id": "Iz_BuggxI4CQ",
        "outputId": "feae8c02-a966-408f-c6b5-8f0f09cb1046"
      },
      "execution_count": 10,
      "outputs": [
        {
          "output_type": "stream",
          "name": "stdout",
          "text": [
            "blue\n"
          ]
        }
      ]
    },
    {
      "cell_type": "code",
      "source": [
        "#Q13 Write a code to find the minimum number in the tuple (10, 20, 5, 15).\n",
        "\n",
        "numbers = (10, 20, 5, 15)\n",
        "print(min(numbers))"
      ],
      "metadata": {
        "colab": {
          "base_uri": "https://localhost:8080/"
        },
        "id": "wtvebyogJDBW",
        "outputId": "741c7f70-7dda-4964-815a-d32764870959"
      },
      "execution_count": 11,
      "outputs": [
        {
          "output_type": "stream",
          "name": "stdout",
          "text": [
            "5\n"
          ]
        }
      ]
    },
    {
      "cell_type": "code",
      "source": [
        "#Q14 Write a code to find the index of the element \"cat\" in the tuple ('dog', 'cat', 'rabbit')\n",
        "\n",
        "animals = ('dog', 'cat', 'rabbit')\n",
        "print(animals.index('cat'))"
      ],
      "metadata": {
        "colab": {
          "base_uri": "https://localhost:8080/"
        },
        "id": "6e_s8ZaVJOp4",
        "outputId": "352a0057-94c8-4fdf-9291-571929a75960"
      },
      "execution_count": 12,
      "outputs": [
        {
          "output_type": "stream",
          "name": "stdout",
          "text": [
            "1\n"
          ]
        }
      ]
    },
    {
      "cell_type": "code",
      "source": [
        "#Q15 Write a code to create a tuple containing three different fruits and check if \"kiwi\" is in it.\n",
        "\n",
        "fruits = ('apple', 'banana', 'orange')\n",
        "print('kiwi' in fruits)\n"
      ],
      "metadata": {
        "colab": {
          "base_uri": "https://localhost:8080/"
        },
        "id": "er0YzWBuJeNk",
        "outputId": "ec656ad3-5be8-4cd9-8739-6cd70515c54c"
      },
      "execution_count": 13,
      "outputs": [
        {
          "output_type": "stream",
          "name": "stdout",
          "text": [
            "False\n"
          ]
        }
      ]
    },
    {
      "cell_type": "code",
      "source": [
        "#Q16 Write a code to create a set with the elements 'a', 'b', 'c' and print it.\n",
        "\n",
        "letters = {'a', 'b', 'c'}\n",
        "print(letters)"
      ],
      "metadata": {
        "colab": {
          "base_uri": "https://localhost:8080/"
        },
        "id": "HLZeYY4LJnG5",
        "outputId": "ee81ccbc-e369-424e-a22b-38bf7520eeee"
      },
      "execution_count": 14,
      "outputs": [
        {
          "output_type": "stream",
          "name": "stdout",
          "text": [
            "{'c', 'a', 'b'}\n"
          ]
        }
      ]
    },
    {
      "cell_type": "code",
      "source": [
        "#17 Write a code to clear all elements from the { 'a', 'b', 'c'}.\n",
        "\n",
        "letters = {'a', 'b', 'c'}\n",
        "letters.clear()\n",
        "print(letters)\n"
      ],
      "metadata": {
        "colab": {
          "base_uri": "https://localhost:8080/"
        },
        "id": "L2OM9i3AJuHs",
        "outputId": "5a085da5-0df1-4420-d9ad-5e81127d80d7"
      },
      "execution_count": 15,
      "outputs": [
        {
          "output_type": "stream",
          "name": "stdout",
          "text": [
            "set()\n"
          ]
        }
      ]
    },
    {
      "cell_type": "code",
      "source": [
        "#Q18  Write a code to remove the element 4 from the set {1, 2, 3, 4}\n",
        "\n",
        "numbers = {1, 2, 3, 4}\n",
        "numbers.remove(4)\n",
        "print(numbers)\n"
      ],
      "metadata": {
        "colab": {
          "base_uri": "https://localhost:8080/"
        },
        "id": "43lp9ZnfKXjp",
        "outputId": "e5e9d4b6-52ef-406f-aa08-a7ab29ec4490"
      },
      "execution_count": 16,
      "outputs": [
        {
          "output_type": "stream",
          "name": "stdout",
          "text": [
            "{1, 2, 3}\n"
          ]
        }
      ]
    },
    {
      "cell_type": "code",
      "source": [
        "#Q19  Write a code to find the union of two sets {1, 2, 3} and {3, 4, 5}.\n",
        "\n",
        "set1 = {1, 2, 3}\n",
        "set2 = {3, 4, 5}\n",
        "print(set1.union(set2))"
      ],
      "metadata": {
        "colab": {
          "base_uri": "https://localhost:8080/"
        },
        "id": "1vBswmAYKhRJ",
        "outputId": "13ce2b92-34da-4ff4-9b50-5c73c30f84c4"
      },
      "execution_count": 17,
      "outputs": [
        {
          "output_type": "stream",
          "name": "stdout",
          "text": [
            "{1, 2, 3, 4, 5}\n"
          ]
        }
      ]
    },
    {
      "cell_type": "code",
      "source": [
        "#Q20 Write a code to find the intersection of two sets {1, 2, 3} and {2, 3, 4}.\n",
        "\n",
        "set1 = {1, 2, 3}\n",
        "set2 = {2, 3, 4}\n",
        "print(set1.intersection(set2))"
      ],
      "metadata": {
        "colab": {
          "base_uri": "https://localhost:8080/"
        },
        "id": "jPoIvgKhKq7m",
        "outputId": "d6df415a-14d4-41a7-f55e-2580bb1b1bb5"
      },
      "execution_count": 18,
      "outputs": [
        {
          "output_type": "stream",
          "name": "stdout",
          "text": [
            "{2, 3}\n"
          ]
        }
      ]
    },
    {
      "cell_type": "code",
      "source": [
        "# Q21  Write a code to create a dictionary with the keys \"name\", \"age\", and \"city\", and print it\n",
        "\n",
        "person = {\n",
        "    \"name\": \"John\",\n",
        "    \"age\": 30,\n",
        "    \"city\": \"New York\"\n",
        "}\n",
        "print(person)"
      ],
      "metadata": {
        "colab": {
          "base_uri": "https://localhost:8080/"
        },
        "id": "-bhI8NHDK5qd",
        "outputId": "ded31cc7-7c92-4117-8671-12ca1e09be2c"
      },
      "execution_count": 20,
      "outputs": [
        {
          "output_type": "stream",
          "name": "stdout",
          "text": [
            "{'name': 'John', 'age': 30, 'city': 'New York'}\n"
          ]
        }
      ]
    },
    {
      "cell_type": "code",
      "source": [
        "#Q22  Write a code to add a new key-value pair \"country\": \"USA\" to the dictionary {'name': 'John', 'age': 25}\n",
        "\n",
        "person = {'name': 'John', 'age': 25}\n",
        "person['country'] = 'USA'\n",
        "print(person)"
      ],
      "metadata": {
        "colab": {
          "base_uri": "https://localhost:8080/"
        },
        "id": "LpnSy9PWLD5C",
        "outputId": "1b338fc7-acc8-4501-bf3b-987ccf5b070e"
      },
      "execution_count": 21,
      "outputs": [
        {
          "output_type": "stream",
          "name": "stdout",
          "text": [
            "{'name': 'John', 'age': 25, 'country': 'USA'}\n"
          ]
        }
      ]
    },
    {
      "cell_type": "code",
      "source": [
        "#23  Write a code to access the value associated with the key \"name\" in the dictionary {'name': 'Alice', 'age': 30}.\n",
        "\n",
        "person = {'name': 'Alice', 'age': 30}\n",
        "print(person['name'])"
      ],
      "metadata": {
        "colab": {
          "base_uri": "https://localhost:8080/"
        },
        "id": "G0-MK52nLWDH",
        "outputId": "f18db766-62e1-41ea-816e-0844a2d96453"
      },
      "execution_count": 22,
      "outputs": [
        {
          "output_type": "stream",
          "name": "stdout",
          "text": [
            "Alice\n"
          ]
        }
      ]
    },
    {
      "cell_type": "code",
      "source": [
        "#Q24 Write a code to remove the key \"age\" from the dictionary {'name': 'Bob', 'age': 22, 'city': 'New York'}.\n",
        "\n",
        "person = {'name': 'Bob', 'age': 22, 'city': 'New York'}\n",
        "del person['age']\n",
        "print(person)\n"
      ],
      "metadata": {
        "colab": {
          "base_uri": "https://localhost:8080/"
        },
        "id": "1UCDjsLtLbUI",
        "outputId": "3e96a1e0-1c3a-4c2e-b0d8-d0a12109226f"
      },
      "execution_count": 23,
      "outputs": [
        {
          "output_type": "stream",
          "name": "stdout",
          "text": [
            "{'name': 'Bob', 'city': 'New York'}\n"
          ]
        }
      ]
    },
    {
      "cell_type": "code",
      "source": [
        "#Q25 Write a code to check if the key \"city\" exists in the dictionary {'name': 'Alice', 'city': 'Paris'}\n",
        "\n",
        "person = {'name': 'Alice', 'city': 'Paris'}\n",
        "print('city' in person)"
      ],
      "metadata": {
        "colab": {
          "base_uri": "https://localhost:8080/"
        },
        "id": "dRrw0PEaLxNm",
        "outputId": "b10423f3-a52b-453a-f060-84178707c328"
      },
      "execution_count": 24,
      "outputs": [
        {
          "output_type": "stream",
          "name": "stdout",
          "text": [
            "True\n"
          ]
        }
      ]
    },
    {
      "cell_type": "code",
      "source": [
        "#Q26 Write a code to create a list, a tuple, and a dictionary, and print them all\n",
        "my_list = [1, 2, 3, 4, 5]\n",
        "my_tuple = (1, 2, 3, 4, 5)\n",
        "my_dict = {'a': 1, 'b': 2, 'c': 3}\n",
        "\n",
        "print(\"List:\", my_list)\n",
        "print(\"Tuple:\", my_tuple)\n",
        "print(\"Dictionary:\", my_dict)"
      ],
      "metadata": {
        "colab": {
          "base_uri": "https://localhost:8080/"
        },
        "id": "NSOL1svaL3gG",
        "outputId": "8e52dc93-e7e8-4d44-859f-d46362de3869"
      },
      "execution_count": 26,
      "outputs": [
        {
          "output_type": "stream",
          "name": "stdout",
          "text": [
            "List: [1, 2, 3, 4, 5]\n",
            "Tuple: (1, 2, 3, 4, 5)\n",
            "Dictionary: {'a': 1, 'b': 2, 'c': 3}\n"
          ]
        }
      ]
    },
    {
      "cell_type": "code",
      "source": [
        "#Q27  Write a code to create a list of 5 random numbers between 1 and 100, sort it in ascending order, and print the result.(replaced)\n",
        "\n",
        "import random\n",
        "\n",
        "numbers = [random.randint(1, 100) for _ in range(5)]\n",
        "numbers.sort()\n",
        "print(numbers)\n",
        "\n"
      ],
      "metadata": {
        "colab": {
          "base_uri": "https://localhost:8080/"
        },
        "id": "C86KIX3EMUmU",
        "outputId": "c4d6e953-7061-4335-e65c-fdf8c1f41878"
      },
      "execution_count": 27,
      "outputs": [
        {
          "output_type": "stream",
          "name": "stdout",
          "text": [
            "[54, 60, 75, 82, 92]\n"
          ]
        }
      ]
    },
    {
      "cell_type": "code",
      "source": [
        "#Q28  Write a code to create a list with strings and print the element at the third index.\n",
        "\n",
        "strings = ['apple', 'banana', 'cherry', 'date', 'elderberry']\n",
        "print(strings[2])"
      ],
      "metadata": {
        "colab": {
          "base_uri": "https://localhost:8080/"
        },
        "id": "8rwrs6O9Mr8T",
        "outputId": "1282eb12-0a6c-4e72-ab0f-c56cdbc5ddc9"
      },
      "execution_count": 28,
      "outputs": [
        {
          "output_type": "stream",
          "name": "stdout",
          "text": [
            "cherry\n"
          ]
        }
      ]
    },
    {
      "cell_type": "code",
      "source": [
        "#Q29  Write a code to combine two dictionaries into one and print the result.\n",
        "\n",
        "dict1 = {'a': 1, 'b': 2}\n",
        "dict2 = {'c': 3, 'd': 4}\n",
        "combined_dict = {**dict1, **dict2}\n",
        "print(combined_dict)"
      ],
      "metadata": {
        "colab": {
          "base_uri": "https://localhost:8080/"
        },
        "id": "QnmFzUk2M61i",
        "outputId": "96c733d0-ef53-4b35-cc54-3cbcc124ac53"
      },
      "execution_count": 29,
      "outputs": [
        {
          "output_type": "stream",
          "name": "stdout",
          "text": [
            "{'a': 1, 'b': 2, 'c': 3, 'd': 4}\n"
          ]
        }
      ]
    },
    {
      "cell_type": "code",
      "source": [
        "#Q30 Write a code to convert a list of strings into a set.\n",
        "\n",
        "strings = ['apple', 'banana', 'cherry', 'date', 'elderberry']\n",
        "string_set = set(strings)\n",
        "print(string_set)"
      ],
      "metadata": {
        "colab": {
          "base_uri": "https://localhost:8080/"
        },
        "id": "4pRwd1bLNDpi",
        "outputId": "80983fc2-e948-417d-d849-9240b9449396"
      },
      "execution_count": 30,
      "outputs": [
        {
          "output_type": "stream",
          "name": "stdout",
          "text": [
            "{'banana', 'cherry', 'date', 'apple', 'elderberry'}\n"
          ]
        }
      ]
    },
    {
      "cell_type": "code",
      "source": [],
      "metadata": {
        "id": "uFriNbGANQcZ"
      },
      "execution_count": null,
      "outputs": []
    }
  ]
}